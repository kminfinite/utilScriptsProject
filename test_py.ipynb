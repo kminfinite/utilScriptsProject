{
 "cells": [
  {
   "cell_type": "markdown",
   "id": "0f8e69bd-3a7c-456b-b584-6f3c87f614be",
   "metadata": {
    "tags": []
   },
   "source": [
    "## test_file"
   ]
  },
  {
   "cell_type": "code",
   "execution_count": 2,
   "id": "59fd2c83-2aac-4235-be76-6591baababa2",
   "metadata": {
    "tags": []
   },
   "outputs": [
    {
     "name": "stdout",
     "output_type": "stream",
     "text": [
      "hello\n"
     ]
    }
   ],
   "source": [
    "print(\"hello\")"
   ]
  },
  {
   "cell_type": "code",
   "execution_count": null,
   "id": "6be6c8c0-2f2a-4773-9747-74bb99547751",
   "metadata": {},
   "outputs": [],
   "source": []
  }
 ],
 "metadata": {
  "kernelspec": {
   "display_name": "Python 3 (ipykernel)",
   "language": "python",
   "name": "python3"
  },
  "language_info": {
   "codemirror_mode": {
    "name": "ipython",
    "version": 3
   },
   "file_extension": ".py",
   "mimetype": "text/x-python",
   "name": "python",
   "nbconvert_exporter": "python",
   "pygments_lexer": "ipython3",
   "version": "3.10.11"
  }
 },
 "nbformat": 4,
 "nbformat_minor": 5
}
